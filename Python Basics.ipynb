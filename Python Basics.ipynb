{
 "cells": [
  {
   "cell_type": "markdown",
   "id": "14374833",
   "metadata": {},
   "source": [
    "# Python Basics "
   ]
  },
  {
   "cell_type": "markdown",
   "id": "f7a9f961",
   "metadata": {},
   "source": [
    " This notebook focuses on Introducing the Basics of Python."
   ]
  },
  {
   "cell_type": "markdown",
   "id": "ec1dbdb6",
   "metadata": {},
   "source": [
    "## Data Types "
   ]
  },
  {
   "cell_type": "markdown",
   "id": "624cdde9",
   "metadata": {},
   "source": [
    "### Integars"
   ]
  },
  {
   "cell_type": "markdown",
   "id": "fa2acc40",
   "metadata": {},
   "source": [
    "Integers are positive or negative whole numbers (without fraction or decimal). In Python there is no limit to how long an integer value can be. "
   ]
  },
  {
   "cell_type": "code",
   "execution_count": 86,
   "id": "a3886060",
   "metadata": {},
   "outputs": [],
   "source": [
    " a = 5 "
   ]
  },
  {
   "cell_type": "code",
   "execution_count": 87,
   "id": "1473438b",
   "metadata": {},
   "outputs": [
    {
     "data": {
      "text/plain": [
       "int"
      ]
     },
     "execution_count": 87,
     "metadata": {},
     "output_type": "execute_result"
    }
   ],
   "source": [
    "type(a)"
   ]
  },
  {
   "cell_type": "markdown",
   "id": "17c17f9c",
   "metadata": {},
   "source": [
    "### Floats"
   ]
  },
  {
   "cell_type": "markdown",
   "id": "33f54db8",
   "metadata": {},
   "source": [
    "It is a real number with floating point representation. It is specified by a decimal point. Optionally, the character e or E followed by a positive or negative integer may be appended to specify scientific notation."
   ]
  },
  {
   "cell_type": "code",
   "execution_count": 88,
   "id": "46f253c8",
   "metadata": {},
   "outputs": [],
   "source": [
    "a = 5.03"
   ]
  },
  {
   "cell_type": "code",
   "execution_count": 89,
   "id": "575d627a",
   "metadata": {},
   "outputs": [
    {
     "data": {
      "text/plain": [
       "float"
      ]
     },
     "execution_count": 89,
     "metadata": {},
     "output_type": "execute_result"
    }
   ],
   "source": [
    "type(a)"
   ]
  },
  {
   "cell_type": "markdown",
   "id": "6233beff",
   "metadata": {},
   "source": [
    "### Strings"
   ]
  },
  {
   "cell_type": "markdown",
   "id": "47a0a938",
   "metadata": {},
   "source": [
    "In Python, Strings are arrays of bytes representing Unicode characters. A string is a collection of one or more characters put in a single quote, double-quote or triple quote. In python there is no character data type, a character is a string of length one. It is represented by str class."
   ]
  },
  {
   "cell_type": "code",
   "execution_count": 90,
   "id": "a55e5ef8",
   "metadata": {},
   "outputs": [],
   "source": [
    "a = \"This is a string\""
   ]
  },
  {
   "cell_type": "code",
   "execution_count": 91,
   "id": "307078a2",
   "metadata": {},
   "outputs": [
    {
     "data": {
      "text/plain": [
       "str"
      ]
     },
     "execution_count": 91,
     "metadata": {},
     "output_type": "execute_result"
    }
   ],
   "source": [
    "type(a)"
   ]
  },
  {
   "cell_type": "code",
   "execution_count": null,
   "id": "65d0462c",
   "metadata": {},
   "outputs": [],
   "source": []
  },
  {
   "cell_type": "markdown",
   "id": "59b2d256",
   "metadata": {},
   "source": [
    "### Lists"
   ]
  },
  {
   "cell_type": "markdown",
   "id": "db3c8454",
   "metadata": {},
   "source": [
    "List is like a simple array which contains data in indexed format. These data can be extracted using index. "
   ]
  },
  {
   "cell_type": "code",
   "execution_count": 92,
   "id": "c82040da",
   "metadata": {},
   "outputs": [],
   "source": [
    "List = [\"a\",\"b\",\"c\",\"d\"]"
   ]
  },
  {
   "cell_type": "code",
   "execution_count": 93,
   "id": "67578047",
   "metadata": {},
   "outputs": [
    {
     "data": {
      "text/plain": [
       "list"
      ]
     },
     "execution_count": 93,
     "metadata": {},
     "output_type": "execute_result"
    }
   ],
   "source": [
    "type(List)"
   ]
  },
  {
   "cell_type": "code",
   "execution_count": 94,
   "id": "6133237a",
   "metadata": {},
   "outputs": [
    {
     "data": {
      "text/plain": [
       "'b'"
      ]
     },
     "execution_count": 94,
     "metadata": {},
     "output_type": "execute_result"
    }
   ],
   "source": [
    "List[1]"
   ]
  },
  {
   "cell_type": "code",
   "execution_count": 95,
   "id": "09c88b71",
   "metadata": {},
   "outputs": [
    {
     "data": {
      "text/plain": [
       "'b'"
      ]
     },
     "execution_count": 95,
     "metadata": {},
     "output_type": "execute_result"
    }
   ],
   "source": [
    "List[-3]"
   ]
  },
  {
   "cell_type": "markdown",
   "id": "9388833c",
   "metadata": {},
   "source": [
    "### Dictionary"
   ]
  },
  {
   "cell_type": "markdown",
   "id": "f722a234",
   "metadata": {},
   "source": [
    "Dictionary in Python is an unordered collection of data values, used to store data values like a map, which unlike other Data Types that hold only single value as an element, Dictionary holds key:value pair."
   ]
  },
  {
   "cell_type": "code",
   "execution_count": 96,
   "id": "c4270d2e",
   "metadata": {},
   "outputs": [],
   "source": [
    "Dict = {1: 'a', 2: 'b', 3: 'c'} "
   ]
  },
  {
   "cell_type": "code",
   "execution_count": 97,
   "id": "bd8236c0",
   "metadata": {
    "scrolled": true
   },
   "outputs": [
    {
     "data": {
      "text/plain": [
       "dict"
      ]
     },
     "execution_count": 97,
     "metadata": {},
     "output_type": "execute_result"
    }
   ],
   "source": [
    "type(Dict)"
   ]
  },
  {
   "cell_type": "markdown",
   "id": "3b5d7cc3",
   "metadata": {},
   "source": [
    "## Pandas"
   ]
  },
  {
   "cell_type": "markdown",
   "id": "cede1f80",
   "metadata": {},
   "source": [
    "Pandas focuses on the concept of Dataframes. These Dataframes enable manipulation of Data in tabular format. It is like a Excel Spreadsheet. "
   ]
  },
  {
   "cell_type": "code",
   "execution_count": 98,
   "id": "486d73ce",
   "metadata": {},
   "outputs": [],
   "source": [
    "import pandas as pd"
   ]
  },
  {
   "cell_type": "code",
   "execution_count": 99,
   "id": "b43ea7de",
   "metadata": {},
   "outputs": [],
   "source": [
    "#!pip install pandas"
   ]
  },
  {
   "cell_type": "markdown",
   "id": "5e9171c9",
   "metadata": {},
   "source": [
    "The Dataframe is a two dimensional structure that holds data or python objets indexed by index arrays. Columns are usually labelled with strings. "
   ]
  },
  {
   "cell_type": "markdown",
   "id": "8ea014d1",
   "metadata": {},
   "source": [
    "Let us create a mock Dataframe and try out a few basics. "
   ]
  },
  {
   "cell_type": "code",
   "execution_count": 111,
   "id": "ac6a4b53",
   "metadata": {},
   "outputs": [],
   "source": [
    "data = [[1, 'a' ,'apple'],\n",
    "       [2, 'b' ,'bat'],\n",
    "       [3, 'c' ,'carrot'],\n",
    "       [4, 'd' ,'dog']]"
   ]
  },
  {
   "cell_type": "code",
   "execution_count": 112,
   "id": "d512c6ef",
   "metadata": {},
   "outputs": [
    {
     "data": {
      "text/plain": [
       "list"
      ]
     },
     "execution_count": 112,
     "metadata": {},
     "output_type": "execute_result"
    }
   ],
   "source": [
    "type(data)"
   ]
  },
  {
   "cell_type": "code",
   "execution_count": 113,
   "id": "6ecfc994",
   "metadata": {},
   "outputs": [],
   "source": [
    "df = pd.DataFrame(data, columns=['sr. no.', 'alphabet' , 'word'])"
   ]
  },
  {
   "cell_type": "code",
   "execution_count": 114,
   "id": "3ef32e32",
   "metadata": {},
   "outputs": [
    {
     "data": {
      "text/html": [
       "<div>\n",
       "<style scoped>\n",
       "    .dataframe tbody tr th:only-of-type {\n",
       "        vertical-align: middle;\n",
       "    }\n",
       "\n",
       "    .dataframe tbody tr th {\n",
       "        vertical-align: top;\n",
       "    }\n",
       "\n",
       "    .dataframe thead th {\n",
       "        text-align: right;\n",
       "    }\n",
       "</style>\n",
       "<table border=\"1\" class=\"dataframe\">\n",
       "  <thead>\n",
       "    <tr style=\"text-align: right;\">\n",
       "      <th></th>\n",
       "      <th>sr. no.</th>\n",
       "      <th>alphabet</th>\n",
       "      <th>word</th>\n",
       "    </tr>\n",
       "  </thead>\n",
       "  <tbody>\n",
       "    <tr>\n",
       "      <th>0</th>\n",
       "      <td>1</td>\n",
       "      <td>a</td>\n",
       "      <td>apple</td>\n",
       "    </tr>\n",
       "    <tr>\n",
       "      <th>1</th>\n",
       "      <td>2</td>\n",
       "      <td>b</td>\n",
       "      <td>bat</td>\n",
       "    </tr>\n",
       "    <tr>\n",
       "      <th>2</th>\n",
       "      <td>3</td>\n",
       "      <td>c</td>\n",
       "      <td>carrot</td>\n",
       "    </tr>\n",
       "    <tr>\n",
       "      <th>3</th>\n",
       "      <td>4</td>\n",
       "      <td>d</td>\n",
       "      <td>dog</td>\n",
       "    </tr>\n",
       "  </tbody>\n",
       "</table>\n",
       "</div>"
      ],
      "text/plain": [
       "   sr. no. alphabet    word\n",
       "0        1        a   apple\n",
       "1        2        b     bat\n",
       "2        3        c  carrot\n",
       "3        4        d     dog"
      ]
     },
     "execution_count": 114,
     "metadata": {},
     "output_type": "execute_result"
    }
   ],
   "source": [
    "df"
   ]
  },
  {
   "cell_type": "code",
   "execution_count": 115,
   "id": "f0cfa8ef",
   "metadata": {},
   "outputs": [
    {
     "data": {
      "text/plain": [
       "0     apple\n",
       "1       bat\n",
       "2    carrot\n",
       "3       dog\n",
       "Name: word, dtype: object"
      ]
     },
     "execution_count": 115,
     "metadata": {},
     "output_type": "execute_result"
    }
   ],
   "source": [
    "df['word']"
   ]
  },
  {
   "cell_type": "code",
   "execution_count": 116,
   "id": "09a0ad83",
   "metadata": {},
   "outputs": [
    {
     "data": {
      "text/plain": [
       "sr. no.          3\n",
       "alphabet         c\n",
       "word        carrot\n",
       "Name: 2, dtype: object"
      ]
     },
     "execution_count": 116,
     "metadata": {},
     "output_type": "execute_result"
    }
   ],
   "source": [
    "df.loc[2]"
   ]
  },
  {
   "cell_type": "markdown",
   "id": "65657673",
   "metadata": {},
   "source": [
    "## Adding Data\n",
    "\n",
    "Adding Data Row wise"
   ]
  },
  {
   "cell_type": "code",
   "execution_count": 117,
   "id": "8a579946",
   "metadata": {},
   "outputs": [],
   "source": [
    "df.loc[4] = [5 ,'e' ,'elephant']"
   ]
  },
  {
   "cell_type": "code",
   "execution_count": 118,
   "id": "52a45e79",
   "metadata": {},
   "outputs": [
    {
     "data": {
      "text/html": [
       "<div>\n",
       "<style scoped>\n",
       "    .dataframe tbody tr th:only-of-type {\n",
       "        vertical-align: middle;\n",
       "    }\n",
       "\n",
       "    .dataframe tbody tr th {\n",
       "        vertical-align: top;\n",
       "    }\n",
       "\n",
       "    .dataframe thead th {\n",
       "        text-align: right;\n",
       "    }\n",
       "</style>\n",
       "<table border=\"1\" class=\"dataframe\">\n",
       "  <thead>\n",
       "    <tr style=\"text-align: right;\">\n",
       "      <th></th>\n",
       "      <th>sr. no.</th>\n",
       "      <th>alphabet</th>\n",
       "      <th>word</th>\n",
       "    </tr>\n",
       "  </thead>\n",
       "  <tbody>\n",
       "    <tr>\n",
       "      <th>0</th>\n",
       "      <td>1</td>\n",
       "      <td>a</td>\n",
       "      <td>apple</td>\n",
       "    </tr>\n",
       "    <tr>\n",
       "      <th>1</th>\n",
       "      <td>2</td>\n",
       "      <td>b</td>\n",
       "      <td>bat</td>\n",
       "    </tr>\n",
       "    <tr>\n",
       "      <th>2</th>\n",
       "      <td>3</td>\n",
       "      <td>c</td>\n",
       "      <td>carrot</td>\n",
       "    </tr>\n",
       "    <tr>\n",
       "      <th>3</th>\n",
       "      <td>4</td>\n",
       "      <td>d</td>\n",
       "      <td>dog</td>\n",
       "    </tr>\n",
       "    <tr>\n",
       "      <th>4</th>\n",
       "      <td>5</td>\n",
       "      <td>e</td>\n",
       "      <td>elephant</td>\n",
       "    </tr>\n",
       "  </tbody>\n",
       "</table>\n",
       "</div>"
      ],
      "text/plain": [
       "   sr. no. alphabet      word\n",
       "0        1        a     apple\n",
       "1        2        b       bat\n",
       "2        3        c    carrot\n",
       "3        4        d       dog\n",
       "4        5        e  elephant"
      ]
     },
     "execution_count": 118,
     "metadata": {},
     "output_type": "execute_result"
    }
   ],
   "source": [
    "df"
   ]
  },
  {
   "cell_type": "markdown",
   "id": "17d75f6a",
   "metadata": {},
   "source": [
    "## Adding Columns\n",
    "\n",
    "An entire new column can be added to create a whole new array or series. "
   ]
  },
  {
   "cell_type": "code",
   "execution_count": 148,
   "id": "3989071c",
   "metadata": {},
   "outputs": [],
   "source": [
    "df['New_Column'] = ['z','y','x','w','v']"
   ]
  },
  {
   "cell_type": "code",
   "execution_count": 161,
   "id": "60509820",
   "metadata": {},
   "outputs": [],
   "source": [
    "df['New_Column_2'] = [100,90,80,70,60]"
   ]
  },
  {
   "cell_type": "code",
   "execution_count": 162,
   "id": "39e854e1",
   "metadata": {},
   "outputs": [
    {
     "data": {
      "text/html": [
       "<div>\n",
       "<style scoped>\n",
       "    .dataframe tbody tr th:only-of-type {\n",
       "        vertical-align: middle;\n",
       "    }\n",
       "\n",
       "    .dataframe tbody tr th {\n",
       "        vertical-align: top;\n",
       "    }\n",
       "\n",
       "    .dataframe thead th {\n",
       "        text-align: right;\n",
       "    }\n",
       "</style>\n",
       "<table border=\"1\" class=\"dataframe\">\n",
       "  <thead>\n",
       "    <tr style=\"text-align: right;\">\n",
       "      <th></th>\n",
       "      <th>sr. no.</th>\n",
       "      <th>alphabet</th>\n",
       "      <th>word</th>\n",
       "      <th>New_Column</th>\n",
       "      <th>New_Column_2</th>\n",
       "    </tr>\n",
       "  </thead>\n",
       "  <tbody>\n",
       "    <tr>\n",
       "      <th>0</th>\n",
       "      <td>1</td>\n",
       "      <td>a</td>\n",
       "      <td>apple</td>\n",
       "      <td>z</td>\n",
       "      <td>100</td>\n",
       "    </tr>\n",
       "    <tr>\n",
       "      <th>1</th>\n",
       "      <td>2</td>\n",
       "      <td>b</td>\n",
       "      <td>bat</td>\n",
       "      <td>y</td>\n",
       "      <td>90</td>\n",
       "    </tr>\n",
       "    <tr>\n",
       "      <th>2</th>\n",
       "      <td>3</td>\n",
       "      <td>c</td>\n",
       "      <td>carrot</td>\n",
       "      <td>x</td>\n",
       "      <td>80</td>\n",
       "    </tr>\n",
       "    <tr>\n",
       "      <th>3</th>\n",
       "      <td>4</td>\n",
       "      <td>d</td>\n",
       "      <td>dog</td>\n",
       "      <td>w</td>\n",
       "      <td>70</td>\n",
       "    </tr>\n",
       "    <tr>\n",
       "      <th>4</th>\n",
       "      <td>5</td>\n",
       "      <td>e</td>\n",
       "      <td>elephant</td>\n",
       "      <td>v</td>\n",
       "      <td>60</td>\n",
       "    </tr>\n",
       "  </tbody>\n",
       "</table>\n",
       "</div>"
      ],
      "text/plain": [
       "   sr. no. alphabet      word New_Column  New_Column_2\n",
       "0        1        a     apple          z           100\n",
       "1        2        b       bat          y            90\n",
       "2        3        c    carrot          x            80\n",
       "3        4        d       dog          w            70\n",
       "4        5        e  elephant          v            60"
      ]
     },
     "execution_count": 162,
     "metadata": {},
     "output_type": "execute_result"
    }
   ],
   "source": [
    "df"
   ]
  },
  {
   "cell_type": "markdown",
   "id": "4d579462",
   "metadata": {},
   "source": [
    "## Checking Data\n",
    "\n",
    "Data in Dataframes can be subject to boolen testing for further analysis. "
   ]
  },
  {
   "cell_type": "code",
   "execution_count": 163,
   "id": "59a1ec5b",
   "metadata": {},
   "outputs": [
    {
     "data": {
      "text/plain": [
       "0     True\n",
       "1     True\n",
       "2    False\n",
       "3    False\n",
       "4    False\n",
       "Name: sr. no., dtype: bool"
      ]
     },
     "execution_count": 163,
     "metadata": {},
     "output_type": "execute_result"
    }
   ],
   "source": [
    "df['sr. no.']<3"
   ]
  },
  {
   "cell_type": "markdown",
   "id": "74b08a51",
   "metadata": {},
   "source": [
    "## Plotting Data\n",
    "\n",
    "Data in Dataframes can also be visualized using .plot "
   ]
  },
  {
   "cell_type": "code",
   "execution_count": 167,
   "id": "ba9569f9",
   "metadata": {},
   "outputs": [
    {
     "data": {
      "text/plain": [
       "<AxesSubplot:xlabel='sr. no.'>"
      ]
     },
     "execution_count": 167,
     "metadata": {},
     "output_type": "execute_result"
    },
    {
     "data": {
      "image/png": "[encoded data removed]",
      "text/plain": [
       "<Figure size 432x288 with 1 Axes>"
      ]
     },
     "metadata": {
      "needs_background": "light"
     },
     "output_type": "display_data"
    }
   ],
   "source": [
    "df.plot(x='sr. no.' , y='New_Column_2')"
   ]
  },
  {
   "cell_type": "code",
   "execution_count": 168,
   "id": "49419386",
   "metadata": {
    "scrolled": true
   },
   "outputs": [
    {
     "data": {
      "text/plain": [
       "<AxesSubplot:xlabel='sr. no.'>"
      ]
     },
     "execution_count": 168,
     "metadata": {},
     "output_type": "execute_result"
    },
    {
     "data": {
      "image/png": "[encoded data removed]",
      "text/plain": [
       "<Figure size 432x288 with 1 Axes>"
      ]
     },
     "metadata": {
      "needs_background": "light"
     },
     "output_type": "display_data"
    }
   ],
   "source": [
    "df.plot(x='sr. no.' , y='New_Column_2', kind = 'bar')"
   ]
  },
  {
   "cell_type": "markdown",
   "id": "dfb2a5ce",
   "metadata": {},
   "source": [
    "# MATPLOTLIB\n",
    "\n",
    "Matplotlib is used to visualize the Data in the dataframe. "
   ]
  },
  {
   "cell_type": "code",
   "execution_count": 164,
   "id": "9f9d473e",
   "metadata": {},
   "outputs": [],
   "source": [
    "import matplotlib.pyplot as plt"
   ]
  },
  {
   "cell_type": "code",
   "execution_count": 165,
   "id": "c115275a",
   "metadata": {},
   "outputs": [
    {
     "data": {
      "text/plain": [
       "[<matplotlib.lines.Line2D at 0x2424f27fb20>]"
      ]
     },
     "execution_count": 165,
     "metadata": {},
     "output_type": "execute_result"
    },
    {
     "data": {
      "image/png": "[encoded data removed]",
      "text/plain": [
       "<Figure size 432x288 with 1 Axes>"
      ]
     },
     "metadata": {
      "needs_background": "light"
     },
     "output_type": "display_data"
    }
   ],
   "source": [
    "plt.plot(['Jan', 'Feb', 'Mar', 'Apr', 'May' , 'June' , 'July', 'Aug', 'Sept', 'Oct', 'Dec' ], [1, 3, 4, 7, 10 , 10 , 13 , 16 , 19, 21 , 22 ])"
   ]
  },
  {
   "cell_type": "code",
   "execution_count": 172,
   "id": "cd5780de",
   "metadata": {},
   "outputs": [],
   "source": [
    "df_1 = pd.DataFrame({\n",
    "    'X': [1, 2, 3, 4, 5],\n",
    "    'Y': [2, 4, 6, 10, 15]\n",
    "})"
   ]
  },
  {
   "cell_type": "code",
   "execution_count": 179,
   "id": "c26fb00a",
   "metadata": {},
   "outputs": [
    {
     "name": "stdout",
     "output_type": "stream",
     "text": [
      "Line graph: \n"
     ]
    },
    {
     "data": {
      "image/png": "[encoded data removed]",
      "text/plain": [
       "<Figure size 432x288 with 1 Axes>"
      ]
     },
     "metadata": {
      "needs_background": "light"
     },
     "output_type": "display_data"
    }
   ],
   "source": [
    "# plotting a line graph\n",
    "print(\"Line graph: \")\n",
    "plt.plot(df_1[\"X\"], df_1[\"Y\"])\n",
    "plt.xlabel('number')\n",
    "plt.ylabel('frequency')\n",
    "plt.show()"
   ]
  },
  {
   "cell_type": "code",
   "execution_count": 181,
   "id": "f19656e8",
   "metadata": {},
   "outputs": [
    {
     "name": "stdout",
     "output_type": "stream",
     "text": [
      "Scatter Plot:  \n"
     ]
    },
    {
     "data": {
      "image/png": "[encoded data removed]",
      "text/plain": [
       "<Figure size 432x288 with 1 Axes>"
      ]
     },
     "metadata": {
      "needs_background": "light"
     },
     "output_type": "display_data"
    }
   ],
   "source": [
    "# plotting a scatter plot\n",
    "print(\"Scatter Plot:  \")\n",
    "plt.scatter(df_1[\"X\"], df_1[\"Y\"])\n",
    "plt.xlabel('number')\n",
    "plt.ylabel('frequency')\n",
    "plt.title('Cummulative Freqency Scatter')\n",
    "plt.show()"
   ]
  },
  {
   "cell_type": "code",
   "execution_count": 204,
   "id": "f717e0b2",
   "metadata": {},
   "outputs": [
    {
     "data": {
      "text/plain": [
       "Text(0, 0.5, 'frequency')"
      ]
     },
     "execution_count": 204,
     "metadata": {},
     "output_type": "execute_result"
    },
    {
     "data": {
      "image/png": "[encoded data removed]",
      "text/plain": [
       "<Figure size 720x360 with 2 Axes>"
      ]
     },
     "metadata": {
      "needs_background": "light"
     },
     "output_type": "display_data"
    }
   ],
   "source": [
    "fig = plt.figure(constrained_layout=True , figsize=(10,5))\n",
    "mosaic =\"AB\"\n",
    "ax_dict = fig.subplot_mosaic(mosaic)\n",
    "\n",
    "#Plotting our graphs\n",
    "\n",
    "ax = ax_dict['A']\n",
    "ax.scatter(df_1[\"X\"], df_1[\"Y\"])\n",
    "ax.set_xlabel('number')\n",
    "ax.set_ylabel('frequency')\n",
    "\n",
    "\n",
    "ax = ax_dict['B']\n",
    "ax.plot(df_1[\"X\"], df_1[\"Y\"])\n",
    "ax.set_xlabel('number')\n",
    "ax.set_ylabel('frequency')"
   ]
  },
  {
   "cell_type": "markdown",
   "id": "8921c0b5",
   "metadata": {},
   "source": [
    "For more info on different commands in matplotlib, visit : https://matplotlib.org/3.1.1/api/_as_gen/matplotlib.pyplot.html"
   ]
  },
  {
   "cell_type": "markdown",
   "id": "98a88843",
   "metadata": {},
   "source": [
    "# Functions "
   ]
  },
  {
   "cell_type": "markdown",
   "id": "123974db",
   "metadata": {},
   "source": [
    "A function is a block of code that can be used as an alternate to repitative data. "
   ]
  },
  {
   "cell_type": "code",
   "execution_count": 199,
   "id": "4cccaab8",
   "metadata": {},
   "outputs": [],
   "source": [
    "def addition(a,b):\n",
    "    '''\n",
    "    THis sums up two numbers. The imput args are two integars / floats and the output is the sum of both'''\n",
    "    \n",
    "    output = a +b\n",
    "    return output"
   ]
  },
  {
   "cell_type": "code",
   "execution_count": 201,
   "id": "a06301a7",
   "metadata": {},
   "outputs": [
    {
     "data": {
      "text/plain": [
       "46"
      ]
     },
     "execution_count": 201,
     "metadata": {},
     "output_type": "execute_result"
    }
   ],
   "source": [
    "addition(12,34)"
   ]
  },
  {
   "cell_type": "markdown",
   "id": "742613b2",
   "metadata": {},
   "source": [
    "Another Example we can talk of is plotting as we has done above. "
   ]
  },
  {
   "cell_type": "code",
   "execution_count": 211,
   "id": "b588e74a",
   "metadata": {},
   "outputs": [],
   "source": [
    "def mos_plot(a,b) :\n",
    "    '''\n",
    "    Plots Scatter and Line for a particular Dataset\n",
    "\n",
    "    Argz:\n",
    "    a = X axis dataset\n",
    "    b = Y axis Dataset \n",
    "\n",
    "    Output :\n",
    "    Scatter and Line Plots\n",
    "    '''\n",
    "    fig = plt.figure(constrained_layout=True , figsize=(10,5))\n",
    "    mosaic =\"AB\"\n",
    "    ax_dict = fig.subplot_mosaic(mosaic)\n",
    "\n",
    "    #Plotting our graphs\n",
    "\n",
    "    ax = ax_dict['A']\n",
    "    ax.scatter(a,b)\n",
    "    ax.set_xlabel('number')\n",
    "    ax.set_ylabel('frequency')\n",
    "\n",
    "\n",
    "    ax = ax_dict['B']\n",
    "    ax.plot(a,b)\n",
    "    ax.set_xlabel('number')\n",
    "    ax.set_ylabel('frequency')"
   ]
  },
  {
   "cell_type": "code",
   "execution_count": 212,
   "id": "cfdd1b4f",
   "metadata": {},
   "outputs": [
    {
     "name": "stdout",
     "output_type": "stream",
     "text": [
      "Help on function mos_plot in module __main__:\n",
      "\n",
      "mos_plot(a, b)\n",
      "    Plots Scatter and Line for a particular Dataset\n",
      "    \n",
      "    Argz:\n",
      "    a = X axis dataset\n",
      "    b = Y axis Dataset \n",
      "    \n",
      "    Output :\n",
      "    Scatter and Line Plots\n",
      "\n"
     ]
    }
   ],
   "source": [
    "help(mos_plot)"
   ]
  },
  {
   "cell_type": "code",
   "execution_count": 213,
   "id": "1ef074e7",
   "metadata": {},
   "outputs": [
    {
     "data": {
      "image/png": "[encoded data removed]",
      "text/plain": [
       "<Figure size 720x360 with 2 Axes>"
      ]
     },
     "metadata": {
      "needs_background": "light"
     },
     "output_type": "display_data"
    }
   ],
   "source": [
    "mos_plot(df_1[\"X\"], df_1[\"Y\"])"
   ]
  },
  {
   "cell_type": "markdown",
   "id": "e556344a",
   "metadata": {},
   "source": [
    "These are the basic concepts that we would be seeing across the Next Notebooks. "
   ]
  }
 ],
 "metadata": {
  "kernelspec": {
   "display_name": "Python 3 (ipykernel)",
   "language": "python",
   "name": "python3"
  },
  "language_info": {
   "codemirror_mode": {
    "name": "ipython",
    "version": 3
   },
   "file_extension": ".py",
   "mimetype": "text/x-python",
   "name": "python",
   "nbconvert_exporter": "python",
   "pygments_lexer": "ipython3",
   "version": "3.9.7"
  }
 },
 "nbformat": 4,
 "nbformat_minor": 5
}
